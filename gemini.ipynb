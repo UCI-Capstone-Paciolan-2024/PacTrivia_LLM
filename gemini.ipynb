{
 "cells": [
  {
   "cell_type": "code",
   "execution_count": 17,
   "metadata": {},
   "outputs": [
    {
     "data": {
      "text/plain": [
       "True"
      ]
     },
     "execution_count": 17,
     "metadata": {},
     "output_type": "execute_result"
    }
   ],
   "source": [
    "import google.generativeai as genai\n",
    "import os\n",
    "import json\n",
    "\n",
    "# Load environment variables\n",
    "from dotenv import load_dotenv\n",
    "\n",
    "load_dotenv()"
   ]
  },
  {
   "cell_type": "code",
   "execution_count": 18,
   "metadata": {},
   "outputs": [],
   "source": [
    "# prepare the large language model\n",
    "GEMINI_API_KEY = os.environ.get(\"GOOGLE_CLOUD_API_KEY\")\n",
    "\n",
    "# Initialize the Gemini API\n",
    "genai.configure(api_key=GEMINI_API_KEY)\n",
    "model = genai.GenerativeModel(\n",
    "    \"gemini-1.5-pro-latest\",\n",
    "    generation_config=genai.GenerationConfig(\n",
    "        max_output_tokens=8000,\n",
    "        temperature=2, # 1.0 is max for gemini 1.0, 2.0 is max for gemini 1.5\n",
    "    ),\n",
    ")"
   ]
  },
  {
   "cell_type": "code",
   "execution_count": 19,
   "metadata": {},
   "outputs": [],
   "source": [
    "# define some constants\n",
    "\n",
    "question_count = 10\n",
    "\n",
    "question_list_prompt = \"\"\"\n",
    "\n",
    "[\n",
    "    {\n",
    "        \"team\": \"UCI Anteaters\",\n",
    "        \"questions\": [\n",
    "            {\n",
    "                \"question\": \"What is the mascot of UC Irvine?\",\n",
    "                \"answer_options\": [\"Anteater\", \"Aggie\", \"Triton\", \"Gaucho\"]\n",
    "                \"correct_indices\": [0]\n",
    "            }\n",
    "        ]\n",
    "    }\n",
    "]\n",
    "\n",
    "The team should match the inputted team name. The answer_options represent possible answer choices a contestant can choose from. The correct_indices represent the index of the correct answer in the answer_options list.\n",
    "\n",
    "\"\"\"\n",
    "\n",
    "def generate_system_prompt(team1, context):\n",
    "\n",
    "    return f\"\"\"\n",
    "You are a sports trivia host, specializing in College Sports trivia.\n",
    "\n",
    "You are known for creating engaging trivia questions, and you will be creating a list of questions.\n",
    "\n",
    "You will create a list of {question_count} questions about this team:\n",
    "\n",
    "{team1}\n",
    "\n",
    "Here is an article detailing information about the team that you can use to create your questions:\n",
    "\n",
    "{context}\n",
    "\n",
    "Output your question list in a valid JSON format.\n",
    "\n",
    "Here is an example output. If one of the teams was the UCI Anteaters, the output could look like this:\n",
    "\n",
    "{question_list_prompt}\n",
    "\"\"\""
   ]
  },
  {
   "cell_type": "code",
   "execution_count": 20,
   "metadata": {},
   "outputs": [],
   "source": [
    "# basic function to generate questions from a prompt\n",
    "def generate(prompt: str):\n",
    "    response = model.generate_content(prompt)\n",
    "    return response.text\n",
    "\n",
    "# Generate the questions, and return as an array of questions\n",
    "def generate_and_format_questions(team, context):\n",
    "    \n",
    "    # generate the system prompt\n",
    "    prompt = generate_system_prompt(team, context)\n",
    "    # generate the questions\n",
    "    print(\"Generating questions...\")\n",
    "    response = generate(prompt)\n",
    "    # trim, format, and return the questions\n",
    "    response = response.strip()\n",
    "    response = response.replace(\"json\", \"\")\n",
    "    response = response.replace(\"`\", \"\")\n",
    "    # convert to JSON format\n",
    "    response = json.loads(response)\n",
    "    return response\n",
    "\n",
    "def generate_embeddings_from_list(text_list: list):\n",
    "    result = genai.embed_content(model=\"models/text-embedding-004\", content=text_list, task_type=\"question_answering\")\n",
    "    for embedding in result['embedding']:\n",
    "        print(str(embedding)[:50], '... TRIMMED]')\n",
    "    return result\n",
    "\n",
    "def generate_embeddings(text: str):\n",
    "    result = genai.embed_content(model=\"models/text-embedding-004\", content=text, task_type=\"retrieval_document\")\n",
    "    # Print just a part of the embedding to keep the output manageable\n",
    "    print(str(result['embedding'])[:50], '... TRIMMED]')\n",
    "    return result\n",
    "\n",
    "# use this function to save the questions somewhere\n",
    "def save_questions(questions, team):\n",
    "    # send question results to backend database\n",
    "    # FIXME: For now, we will save the questions to a JSON file\n",
    "    with open(f\"{team}_questions.json\", \"w\") as f:\n",
    "        json.dump(questions, f)\n"
   ]
  },
  {
   "cell_type": "code",
   "execution_count": 21,
   "metadata": {},
   "outputs": [
    {
     "name": "stdout",
     "output_type": "stream",
     "text": [
      "Generating questions...\n",
      "[{'team': 'UCI Anteaters', 'questions': [{'question': 'What conference does the UCI Anteaters compete in?', 'answer_options': ['Big West Conference', 'Pac-12 Conference', 'Mountain West Conference', 'West Coast Conference'], 'correct_indices': [0]}, {'question': 'In what year was UC Irvine founded?', 'answer_options': ['1965', '1945', '1925', '1905'], 'correct_indices': [0]}, {'question': \"What is the nickname of the UCI Anteaters' basketball arena?\", 'answer_options': ['The Bren Events Center', 'Pauley Pavilion', 'Galen Center', 'Walter Pyramid'], 'correct_indices': [0]}, {'question': 'Which UCI Anteaters team won a national championship in 1973?', 'answer_options': [\"Men's Water Polo\", \"Women's Volleyball\", \"Men's Basketball\", \"Women's Soccer\"], 'correct_indices': [0]}, {'question': \"Who is the current head coach of the UCI Anteaters men's basketball team?\", 'answer_options': ['Russell Turner', 'Mike Krzyzewski', 'John Calipari', 'Bill Self'], 'correct_indices': [0]}, {'question': \"In what year did the UCI Anteaters women's basketball team make their first NCAA tournament appearance?\", 'answer_options': ['2019', '1995', '2005', '2010'], 'correct_indices': [0]}, {'question': 'What is the mascot of UC Irvine?', 'answer_options': ['Peter the Anteater', 'Joe Bruin', 'The Tree', 'Sammy the Slug'], 'correct_indices': [0]}, {'question': \"How many NCAA championships have the UCI Anteaters men's volleyball team won?\", 'answer_options': ['4', '1', '2', '3'], 'correct_indices': [3]}, {'question': 'Who was the first UCI Anteaters athlete to win an Olympic gold medal?', 'answer_options': ['Karch Kiraly', 'Amanda Blumenherst', 'Misty May-Treanor', 'David Smith'], 'correct_indices': [0]}, {'question': 'In what city is UC Irvine located?', 'answer_options': ['Irvine', 'Los Angeles', 'San Diego', 'Berkeley'], 'correct_indices': [0]}]}]\n"
     ]
    }
   ],
   "source": [
    "team = \"UCI Anteaters\"\n",
    "# call milvus to query for the team's context\n",
    "\n",
    "# FIXME: For now, we will use a hardcoded context\n",
    "\n",
    "context = f\"\"\"{team} is a college sports team.\"\"\"\n",
    "questions = generate_and_format_questions(team, context)\n",
    "save_questions(questions, team)\n",
    "print(questions)"
   ]
  }
 ],
 "metadata": {
  "kernelspec": {
   "display_name": ".venv",
   "language": "python",
   "name": "python3"
  },
  "language_info": {
   "codemirror_mode": {
    "name": "ipython",
    "version": 3
   },
   "file_extension": ".py",
   "mimetype": "text/x-python",
   "name": "python",
   "nbconvert_exporter": "python",
   "pygments_lexer": "ipython3",
   "version": "3.10.1"
  }
 },
 "nbformat": 4,
 "nbformat_minor": 2
}
