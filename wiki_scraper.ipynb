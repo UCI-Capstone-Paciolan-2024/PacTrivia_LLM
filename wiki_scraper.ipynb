{
 "cells": [
  {
   "cell_type": "code",
   "execution_count": 50,
   "metadata": {
    "collapsed": true,
    "ExecuteTime": {
     "end_time": "2024-04-30T02:38:34.601647Z",
     "start_time": "2024-04-30T02:38:34.600018Z"
    }
   },
   "outputs": [],
   "source": [
    "import requests\n",
    "from bs4 import BeautifulSoup"
   ]
  },
  {
   "cell_type": "code",
   "execution_count": 75,
   "outputs": [],
   "source": [
    "def get_wiki_page(params):\n",
    "    return requests.get('https://en.wikipedia.org/w/api.php', params=params)"
   ],
   "metadata": {
    "collapsed": false,
    "ExecuteTime": {
     "end_time": "2024-04-30T02:49:56.571887Z",
     "start_time": "2024-04-30T02:49:56.570768Z"
    }
   }
  },
  {
   "cell_type": "code",
   "execution_count": 76,
   "outputs": [],
   "source": [
    "def get_NCAA_D1_teams():\n",
    "    params = {\n",
    "        'action': 'parse',\n",
    "        'page': \"List of NCAA Division I institutions\",\n",
    "        'format': 'json',\n",
    "        'prop': 'text',\n",
    "    }\n",
    "    res = get_wiki_page(params)\n",
    "    if res.status_code == 200:\n",
    "        page = res.json()['parse']['text']['*']\n",
    "        soup = BeautifulSoup(page, 'html.parser')\n",
    "        table = soup.find_all('table')[1]\n",
    "        team_names = []\n",
    "        for row in table.find_all('tr')[2:]:\n",
    "            cells = row.find_all('td')\n",
    "            if len(cells) < 3:\n",
    "                continue\n",
    "            nickname = cells[2].find('a')['title']\n",
    "            team_names.append(nickname)\n",
    "    return team_names\n",
    "\n",
    "teams = get_NCAA_D1_teams()"
   ],
   "metadata": {
    "collapsed": false,
    "ExecuteTime": {
     "end_time": "2024-04-30T02:49:57.646798Z",
     "start_time": "2024-04-30T02:49:56.972071Z"
    }
   }
  },
  {
   "cell_type": "code",
   "execution_count": 77,
   "outputs": [],
   "source": [
    "def get_team_data(team_name):\n",
    "    params = {\n",
    "        'action': 'query',\n",
    "        'titles': team_name,\n",
    "        'format': 'json',\n",
    "        'prop': 'extracts',\n",
    "        'explaintext': 'true',\n",
    "    }\n",
    "    res = get_wiki_page(params)\n",
    "    pages = res.json()['query']['pages']\n",
    "    if pages:\n",
    "        return pages[next(iter(pages))]['extract']"
   ],
   "metadata": {
    "collapsed": false,
    "ExecuteTime": {
     "end_time": "2024-04-30T02:49:58.960218Z",
     "start_time": "2024-04-30T02:49:58.958157Z"
    }
   }
  },
  {
   "cell_type": "code",
   "execution_count": null,
   "outputs": [],
   "source": [],
   "metadata": {
    "collapsed": false
   }
  }
 ],
 "metadata": {
  "kernelspec": {
   "display_name": "Python 3",
   "language": "python",
   "name": "python3"
  },
  "language_info": {
   "codemirror_mode": {
    "name": "ipython",
    "version": 2
   },
   "file_extension": ".py",
   "mimetype": "text/x-python",
   "name": "python",
   "nbconvert_exporter": "python",
   "pygments_lexer": "ipython2",
   "version": "2.7.6"
  }
 },
 "nbformat": 4,
 "nbformat_minor": 0
}
